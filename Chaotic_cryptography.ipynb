{
 "cells": [
  {
   "cell_type": "code",
   "execution_count": 1,
   "metadata": {},
   "outputs": [],
   "source": [
    "import PIL"
   ]
  },
  {
   "cell_type": "code",
   "execution_count": 18,
   "metadata": {},
   "outputs": [],
   "source": [
    "from PIL import Image\n",
    "im = Image.open('lena_greyscale.png')"
   ]
  },
  {
   "cell_type": "code",
   "execution_count": 47,
   "metadata": {},
   "outputs": [],
   "source": [
    "pixels = list(im.getdata())\n",
    "# print(len(pixels))"
   ]
  },
  {
   "cell_type": "code",
   "execution_count": 48,
   "metadata": {},
   "outputs": [],
   "source": [
    "def log_map(x):\n",
    "    r = 3.9\n",
    "    y = r*x*(1-x)\n",
    "    return y"
   ]
  },
  {
   "cell_type": "code",
   "execution_count": 49,
   "metadata": {},
   "outputs": [],
   "source": [
    "key = 0.12345678\n",
    "lastel = key\n",
    "enc_list = []\n",
    "for _ in range(len(pixels)):\n",
    "    enc = log_map(lastel)\n",
    "    enc_list.append(enc)\n",
    "    lastel = enc_list[-1]"
   ]
  },
  {
   "cell_type": "code",
   "execution_count": 50,
   "metadata": {},
   "outputs": [],
   "source": [
    "for i in range(len(pixels)):\n",
    "    pixels[i] = pixels[i]^(round(enc_list[i]*100000))"
   ]
  },
  {
   "cell_type": "code",
   "execution_count": 51,
   "metadata": {},
   "outputs": [],
   "source": [
    "# imgg = Image.new(\"L\", (256,256))  # single band \n",
    "# # newdata = list(range(0, 256, 4)) * 104\n",
    "# imgg.putdata(pixels) \n",
    "# imgg.show() "
   ]
  },
  {
   "cell_type": "code",
   "execution_count": 52,
   "metadata": {},
   "outputs": [],
   "source": [
    "for i in range(len(pixels)):\n",
    "    pixels[i] = pixels[i]^(round(enc_list[i]*100000))\n",
    "    \n",
    "imgg = Image.new(\"L\", (256,256))  # single band \n",
    "# newdata = list(range(0, 256, 4)) * 104\n",
    "imgg.putdata(pixels) \n",
    "imgg.show() "
   ]
  },
  {
   "cell_type": "code",
   "execution_count": null,
   "metadata": {},
   "outputs": [],
   "source": []
  }
 ],
 "metadata": {
  "kernelspec": {
   "display_name": "Python 3",
   "language": "python",
   "name": "python3"
  },
  "language_info": {
   "codemirror_mode": {
    "name": "ipython",
    "version": 3
   },
   "file_extension": ".py",
   "mimetype": "text/x-python",
   "name": "python",
   "nbconvert_exporter": "python",
   "pygments_lexer": "ipython3",
   "version": "3.6.9"
  }
 },
 "nbformat": 4,
 "nbformat_minor": 2
}
